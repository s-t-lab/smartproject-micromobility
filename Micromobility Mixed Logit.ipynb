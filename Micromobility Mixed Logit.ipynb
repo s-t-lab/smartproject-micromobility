{
 "cells": [
  {
   "cell_type": "code",
   "execution_count": 1,
   "metadata": {},
   "outputs": [],
   "source": [
    "import sys\n",
    "import numpy as np\n",
    "import pandas as pd\n",
    "import biogeme.database as db\n",
    "import biogeme.biogeme as bio\n",
    "from biogeme import models\n",
    "import biogeme.results as res\n",
    "from biogeme.exceptions import biogemeError\n",
    "from biogeme.expressions import Beta, Variable, bioDraws, MonteCarlo, log, exp\n",
    "import biogeme.distributions as dist\n",
    "import matplotlib.pyplot as plt\n"
   ]
  },
  {
   "cell_type": "code",
   "execution_count": 2,
   "metadata": {},
   "outputs": [],
   "source": [
    "# Read the data\n",
    "micro_pool_socio = pd.read_csv('Data/micro_pool_socio_bio2up.csv')"
   ]
  },
  {
   "cell_type": "code",
   "execution_count": 3,
   "metadata": {},
   "outputs": [],
   "source": [
    "# Micromobility Trips 0-5 Miles\n",
    "micro0to5 = (((\n",
    "# 0-2 miles first choice\n",
    "micro_pool_socio['scooter_av'] == 1) & (\n",
    "    micro_pool_socio['dlbike_av'] == 1) & (\n",
    "    micro_pool_socio['dkbike_av'] == 1) & (\n",
    "    micro_pool_socio['car_av'] == 0) & (\n",
    "    micro_pool_socio['transit_av'] == 0) & (\n",
    "    micro_pool_socio['rd_av'] == 0) & (\n",
    "    micro_pool_socio['walk_av'] == 0) & (\n",
    "    micro_pool_socio['bike_av'] == 0) & (\n",
    "    micro_pool_socio['sctransit_av'] == 0)) | ((\n",
    "# 0-2 miles second choice\n",
    "    # scooter_av == 1 & dlbike_av == 1 & everything else == 0\n",
    "    micro_pool_socio['scooter_av'] == 1) & (\n",
    "    micro_pool_socio['dlbike_av'] == 1) & (\n",
    "    micro_pool_socio['dkbike_av'] == 0) & (\n",
    "    micro_pool_socio['car_av'] == 0) & (\n",
    "    micro_pool_socio['transit_av'] == 0) & (\n",
    "    micro_pool_socio['rd_av'] == 0) & (\n",
    "    micro_pool_socio['walk_av'] == 0) & (\n",
    "    micro_pool_socio['bike_av'] == 0) & (\n",
    "    micro_pool_socio['sctransit_av'] == 0)) | ((\n",
    "    #'scooter'_av ==1 & 'dk_bike'_av == 1 & everything else == 0\n",
    "    micro_pool_socio['scooter_av'] == 1) & (\n",
    "    micro_pool_socio['dkbike_av'] == 1) & (\n",
    "    micro_pool_socio['dlbike_av'] == 0) & (\n",
    "    micro_pool_socio['car_av'] == 0) & (\n",
    "    micro_pool_socio['transit_av'] == 0) & (\n",
    "    micro_pool_socio['rd_av'] == 0) & (\n",
    "    micro_pool_socio['walk_av'] == 0) & (\n",
    "    micro_pool_socio['bike_av'] == 0) & (\n",
    "    micro_pool_socio['sctransit_av'] == 0)) | ((\n",
    "    #'dk_bike_av' == 1 & 'dl_bike_av' == 1 & everything else == 0\n",
    "    micro_pool_socio['dkbike_av'] == 1) & (\n",
    "    micro_pool_socio['dlbike_av'] == 1) & (\n",
    "    micro_pool_socio['scooter_av'] == 0) & (\n",
    "    micro_pool_socio['car_av'] == 0) & (\n",
    "    micro_pool_socio['transit_av'] == 0) & (\n",
    "    micro_pool_socio['rd_av'] == 0) & (\n",
    "    micro_pool_socio['walk_av'] == 0) & (\n",
    "    micro_pool_socio['bike_av'] == 0) & (\n",
    "    micro_pool_socio['sctransit_av'] == 0\n",
    "    )) | ((\n",
    "# 2-5 miles\n",
    "    micro_pool_socio['scooter_av'] == 1) & (\n",
    "    micro_pool_socio['dlbike_av'] == 0) & (\n",
    "    micro_pool_socio['dkbike_av'] == 0) & (\n",
    "    micro_pool_socio['car_av'] == 0) & (\n",
    "    micro_pool_socio['transit_av'] == 0) & (\n",
    "    micro_pool_socio['rd_av'] == 0) & (\n",
    "    micro_pool_socio['walk_av'] == 0) & (\n",
    "    micro_pool_socio['bike_av'] == 0) & (\n",
    "    micro_pool_socio['sctransit_av'] == 1\n",
    ")))\n",
    "\n",
    "micro_0_to_5 = micro_pool_socio.loc[micro0to5]"
   ]
  },
  {
   "cell_type": "code",
   "execution_count": 4,
   "metadata": {},
   "outputs": [],
   "source": [
    "database4 = db.Database('micro_0_to_5', micro_0_to_5)\n",
    "globals().update(database4.variables)"
   ]
  },
  {
   "cell_type": "code",
   "execution_count": 8,
   "metadata": {},
   "outputs": [],
   "source": [
    "ASC_SCOOTER = Beta('ASC_SCOOTER', 0, None, None, 1)\n",
    "ASC_DLBIKE = Beta('ASC_DLBIKE', 0, None, None, 0)\n",
    "ASC_DKBIKE = Beta('ASC_DKBIKE', 0, None, None, 0)\n",
    "ASC_SCTRANSIT = Beta('ASC_SCTRANSIT', 0, None, None, 0)\n",
    "\n",
    "# B_SCOOTERTIME = Beta('B_SCOOTERTIME', 0, None, None, 0)\n",
    "# B_SCOOTERTIME_S = Beta('B_SCOOTERTIME_S', 1, None, None, 0)\n",
    "# B_SCOOTERTIME_RND = -exp(B_SCOOTERTIME + B_SCOOTERTIME_S*bioDraws('B_SCOOTERTIME_RND', 'HALTON'))\n",
    "# B_BIKETIME = Beta('B_BIKETIME', 0, None, None, 0)\n",
    "# # B_DKBIKETIME = Beta('B_DKBIKETIME', 0, None, None, 0)\n",
    "# B_SCTRANSITTIME = Beta('B_SCTRANSITTIME', 0, None, None, 0)\n",
    "\n",
    "B_TIME = Beta('B_TIME', 0, None, None, 0)\n",
    "B_TIME_S = Beta('B_TIME_S', 1, None, None, 0)\n",
    "B_TIME_RND = -exp(B_TIME + B_TIME_S * bioDraws('B_TIME_RND', 'NORMAL_HALTON2'))\n",
    "\n",
    "B_COST = Beta('B_COST', 0, None, None, 0)\n",
    "# B_COST_S = Beta('B_COST_S', 1, None, None, 0)\n",
    "# B_COST_RND = B_COST + B_COST_S * bioDraws('B_COST_RND', 'NORMAL')\n",
    "\n",
    "B_ACCESS = Beta('B_ACCESS', 0, None, None, 0)\n",
    "B_DROP =Beta('B_DROP', 0, None, None, 0)\n",
    "B_WAITAV = Beta('B_WAITAV', 0, None, None, 0)\n",
    "B_AV = Beta('B_AV', 0, None, None, 0)\n",
    "\n",
    "# B_costadj = Beta('B_costadj', 0, None, None, 0)\n",
    "\n",
    "B_PRCP_Yes = Beta('B_PRCP_Yes', 0, None, None, 0)\n",
    "B_OWNBIKE = Beta('B_OWNBIKE', 0, None, None, 0)\n",
    "B_BIKELANE = Beta('B_BIKELANE', 0, None, None, 0)\n",
    "B_AGE_SQ_BIKE = Beta('B_AGE_SQ_BIKE', 0, None, None, 0)\n",
    "B_AGE_SCTRANSIT_SQ = Beta('B_AGE_SCTRANSIT_SQ', 0, None, None, 0)\n",
    "B_GENDER_F_BIKE = Beta('B_GENDER_F_BIKE', 0, None, None, 0)\n",
    "B_GENDER_F_SCTRANSIT = Beta('B_GENDER_F_SCTRANSIT', 0, None, None, 0)"
   ]
  },
  {
   "cell_type": "code",
   "execution_count": 9,
   "metadata": {},
   "outputs": [],
   "source": [
    "# Utility Functions\n",
    "V7 = (ASC_SCOOTER \n",
    "      + B_TIME_RND*sctime\n",
    "      + B_COST*sccost_adj\n",
    "      + B_ACCESS*SCAW*(1-AVtech)\n",
    "      + B_WAITAV*SCAV*AVtech \n",
    "      )\n",
    "V8 = (ASC_DLBIKE\n",
    "        + B_TIME_RND*dltime\n",
    "        + B_COST*dlcost_adj\n",
    "        + B_ACCESS*DLAW\n",
    "       # + B_PRCP_Yes*PRCP_Yes\n",
    "        + B_OWNBIKE*bike\n",
    "        # + B_BIKELANE*BKLN_Yes\n",
    "        + B_AGE_SQ_BIKE*age*age\n",
    "        + B_GENDER_F_BIKE*gender_F\n",
    "    )\n",
    "V9 = (ASC_DKBIKE \n",
    "      + B_TIME_RND*dbtime \n",
    "      + B_COST*dbcost_adj\n",
    "      + B_ACCESS*DBAW\n",
    "      + B_DROP*DBDW\n",
    "      + B_OWNBIKE*bike\n",
    "      # + B_BIKELANE*BKLN_Yes\n",
    "      + B_AGE_SQ_BIKE*age*age\n",
    "      + B_GENDER_F_BIKE*gender_F\n",
    "    )\n",
    "V10 = (ASC_SCTRANSIT\n",
    "       + B_TIME_RND*sttotime\n",
    "        + B_COST*sttocost_adj \n",
    "        + B_ACCESS*STAW*(1-AVtech)\n",
    "        + B_WAITAV*STAV*AVtech \n",
    "        + B_AGE_SCTRANSIT_SQ*age*age\n",
    "        + B_GENDER_F_SCTRANSIT*gender_F\n",
    "    )"
   ]
  },
  {
   "cell_type": "code",
   "execution_count": 10,
   "metadata": {},
   "outputs": [
    {
     "name": "stdout",
     "output_type": "stream",
     "text": [
      "                       Value  Rob. Std err  Rob. t-test  Rob. p-value\n",
      "ASC_DKBIKE             -0.43          0.17        -2.57          0.01\n",
      "ASC_DLBIKE              0.21          0.15         1.37          0.17\n",
      "ASC_SCTRANSIT          -0.14          0.13        -1.05          0.29\n",
      "B_ACCESS               -0.12          0.02        -8.17          0.00\n",
      "B_AGE_SCTRANSIT_SQ      0.00          0.00         0.27          0.79\n",
      "B_AGE_SQ_BIKE           0.00          0.00         1.58          0.11\n",
      "B_COST                 -1.89          0.32        -5.92          0.00\n",
      "B_DROP                 -0.08          0.03        -2.63          0.01\n",
      "B_GENDER_F_BIKE         0.08          0.11         0.71          0.48\n",
      "B_GENDER_F_SCOTRANSIT  -0.15          0.12        -1.25          0.21\n",
      "B_OWNBIKE              -0.18          0.13        -1.45          0.15\n",
      "B_TIME                 -3.82          0.77        -5.00          0.00\n",
      "B_TIME_S                2.00          0.81         2.46          0.01\n",
      "B_WAITAV               -0.00          0.02        -0.10          0.92\n"
     ]
    }
   ],
   "source": [
    "V = {7: V7, 8: V8, 9: V9, 10: V10}\n",
    "av = {7: scooter_av, 8: dlbike_av, 9: dkbike_av, 10: sctransit_av}\n",
    "\n",
    "prob = models.logit(V, av, choice)\n",
    "logprob = log(MonteCarlo(prob))\n",
    "biogeme = bio.BIOGEME(database4, logprob, numberOfDraws = 100)\n",
    "biogeme.modelName = \"micromobility_mixedlogit_0_to_5\"\n",
    "\n",
    "results = biogeme.estimate()\n",
    "pandasResults = results.getEstimatedParameters()\n",
    "print(pandasResults.round(2))"
   ]
  },
  {
   "cell_type": "code",
   "execution_count": 25,
   "metadata": {},
   "outputs": [
    {
     "name": "stdout",
     "output_type": "stream",
     "text": [
      "-2650.4262493268243\n"
     ]
    }
   ],
   "source": [
    "print(logLike)"
   ]
  }
 ],
 "metadata": {
  "kernelspec": {
   "display_name": "Python 3",
   "language": "python",
   "name": "python3"
  },
  "language_info": {
   "codemirror_mode": {
    "name": "ipython",
    "version": 3
   },
   "file_extension": ".py",
   "mimetype": "text/x-python",
   "name": "python",
   "nbconvert_exporter": "python",
   "pygments_lexer": "ipython3",
   "version": "3.11.1"
  },
  "orig_nbformat": 4,
  "vscode": {
   "interpreter": {
    "hash": "aee8b7b246df8f9039afb4144a1f6fd8d2ca17a180786b69acc140d282b71a49"
   }
  }
 },
 "nbformat": 4,
 "nbformat_minor": 2
}
