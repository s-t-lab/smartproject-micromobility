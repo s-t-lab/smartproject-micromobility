{
 "cells": [
  {
   "cell_type": "code",
   "execution_count": 8,
   "metadata": {},
   "outputs": [
    {
     "name": "stdout",
     "output_type": "stream",
     "text": [
      "Requirement already satisfied: pandas in c:\\users\\rs49742\\anaconda3\\lib\\site-packages (1.5.3)Note: you may need to restart the kernel to use updated packages.\n",
      "\n",
      "Requirement already satisfied: numpy>=1.21.0 in c:\\users\\rs49742\\anaconda3\\lib\\site-packages (from pandas) (1.23.5)\n",
      "Requirement already satisfied: python-dateutil>=2.8.1 in c:\\users\\rs49742\\anaconda3\\lib\\site-packages (from pandas) (2.8.2)\n",
      "Requirement already satisfied: pytz>=2020.1 in c:\\users\\rs49742\\anaconda3\\lib\\site-packages (from pandas) (2022.7)\n",
      "Requirement already satisfied: six>=1.5 in c:\\users\\rs49742\\anaconda3\\lib\\site-packages (from python-dateutil>=2.8.1->pandas) (1.16.0)\n"
     ]
    }
   ],
   "source": [
    "pip install pandas"
   ]
  },
  {
   "cell_type": "code",
   "execution_count": 9,
   "metadata": {},
   "outputs": [],
   "source": [
    "import sys\n",
    "import numpy as np\n",
    "import pandas as pd\n",
    "import biogeme.database as db\n",
    "import biogeme.biogeme as bio\n",
    "from biogeme import models\n",
    "import biogeme.results as res\n",
    "from biogeme.exceptions import biogemeError\n",
    "from biogeme.expressions import Beta, Variable, bioDraws, MonteCarlo, log, exp, PanelLikelihoodTrajectory\n",
    "import biogeme.distributions as dist\n",
    "import matplotlib.pyplot as plt\n"
   ]
  },
  {
   "cell_type": "code",
   "execution_count": 12,
   "metadata": {},
   "outputs": [],
   "source": [
    "# Read the data\n",
    "micro_pool_socio = pd.read_csv('Data/micro_pool_socio_bio2up.csv')\n",
    "\n",
    "# Add column for children in HH\n",
    "micro_pool_socio['child_in_hh'] = np.where(micro_pool_socio['child'] > 0, 1, 0)\n",
    "\n",
    "# Add column for HH income > 75,000\n",
    "micro_pool_socio['hh_income_75k'] = np.where(micro_pool_socio['hhincome'] >= 8, 1, 0)\n",
    "\n",
    "# Add column for full-time employment\n",
    "micro_pool_socio['employed_full_time'] = np.where(micro_pool_socio['work'] == 1, 1, 0)"
   ]
  },
  {
   "cell_type": "code",
   "execution_count": 13,
   "metadata": {},
   "outputs": [],
   "source": [
    "# Micromobility Trips 0-5 Miles\n",
    "micro0to5 = (((\n",
    "# 0-2 miles first choice\n",
    "micro_pool_socio['scooter_av'] == 1) & (\n",
    "    micro_pool_socio['dlbike_av'] == 1) & (\n",
    "    micro_pool_socio['dkbike_av'] == 1) & (\n",
    "    micro_pool_socio['car_av'] == 0) & (\n",
    "    micro_pool_socio['transit_av'] == 0) & (\n",
    "    micro_pool_socio['rd_av'] == 0) & (\n",
    "    micro_pool_socio['walk_av'] == 0) & (\n",
    "    micro_pool_socio['bike_av'] == 0) & (\n",
    "    micro_pool_socio['sctransit_av'] == 0)) | ((\n",
    "# 0-2 miles second choice\n",
    "    # scooter_av == 1 & dlbike_av == 1 & everything else == 0\n",
    "    micro_pool_socio['scooter_av'] == 1) & (\n",
    "    micro_pool_socio['dlbike_av'] == 1) & (\n",
    "    micro_pool_socio['dkbike_av'] == 0) & (\n",
    "    micro_pool_socio['car_av'] == 0) & (\n",
    "    micro_pool_socio['transit_av'] == 0) & (\n",
    "    micro_pool_socio['rd_av'] == 0) & (\n",
    "    micro_pool_socio['walk_av'] == 0) & (\n",
    "    micro_pool_socio['bike_av'] == 0) & (\n",
    "    micro_pool_socio['sctransit_av'] == 0)) | ((\n",
    "    #'scooter'_av ==1 & 'dk_bike'_av == 1 & everything else == 0\n",
    "    micro_pool_socio['scooter_av'] == 1) & (\n",
    "    micro_pool_socio['dkbike_av'] == 1) & (\n",
    "    micro_pool_socio['dlbike_av'] == 0) & (\n",
    "    micro_pool_socio['car_av'] == 0) & (\n",
    "    micro_pool_socio['transit_av'] == 0) & (\n",
    "    micro_pool_socio['rd_av'] == 0) & (\n",
    "    micro_pool_socio['walk_av'] == 0) & (\n",
    "    micro_pool_socio['bike_av'] == 0) & (\n",
    "    micro_pool_socio['sctransit_av'] == 0)) | ((\n",
    "    #'dk_bike_av' == 1 & 'dl_bike_av' == 1 & everything else == 0\n",
    "    micro_pool_socio['dkbike_av'] == 1) & (\n",
    "    micro_pool_socio['dlbike_av'] == 1) & (\n",
    "    micro_pool_socio['scooter_av'] == 0) & (\n",
    "    micro_pool_socio['car_av'] == 0) & (\n",
    "    micro_pool_socio['transit_av'] == 0) & (\n",
    "    micro_pool_socio['rd_av'] == 0) & (\n",
    "    micro_pool_socio['walk_av'] == 0) & (\n",
    "    micro_pool_socio['bike_av'] == 0) & (\n",
    "    micro_pool_socio['sctransit_av'] == 0\n",
    "    )) | ((\n",
    "# 2-5 miles\n",
    "    micro_pool_socio['scooter_av'] == 1) & (\n",
    "    micro_pool_socio['dlbike_av'] == 0) & (\n",
    "    micro_pool_socio['dkbike_av'] == 0) & (\n",
    "    micro_pool_socio['car_av'] == 0) & (\n",
    "    micro_pool_socio['transit_av'] == 0) & (\n",
    "    micro_pool_socio['rd_av'] == 0) & (\n",
    "    micro_pool_socio['walk_av'] == 0) & (\n",
    "    micro_pool_socio['bike_av'] == 0) & (\n",
    "    micro_pool_socio['sctransit_av'] == 1\n",
    ")))\n",
    "\n",
    "micro_0_to_5 = micro_pool_socio.loc[micro0to5]"
   ]
  },
  {
   "cell_type": "code",
   "execution_count": 14,
   "metadata": {},
   "outputs": [
    {
     "name": "stderr",
     "output_type": "stream",
     "text": [
      "C:\\Users\\rs49742\\anaconda3\\lib\\site-packages\\biogeme\\tools.py:256: SettingWithCopyWarning: \n",
      "A value is trying to be set on a copy of a slice from a DataFrame.\n",
      "Try using .loc[row_indexer,col_indexer] = value instead\n",
      "\n",
      "See the caveats in the documentation: https://pandas.pydata.org/pandas-docs/stable/user_guide/indexing.html#returning-a-view-versus-a-copy\n",
      "  df['_biogroups'] = (df[column] != df[column].shift(1)).cumsum()\n",
      "C:\\Users\\rs49742\\anaconda3\\lib\\site-packages\\biogeme\\tools.py:258: SettingWithCopyWarning: \n",
      "A value is trying to be set on a copy of a slice from a DataFrame\n",
      "\n",
      "See the caveats in the documentation: https://pandas.pydata.org/pandas-docs/stable/user_guide/indexing.html#returning-a-view-versus-a-copy\n",
      "  df.drop(columns=['_biogroups'], inplace=True)\n"
     ]
    }
   ],
   "source": [
    "database4 = db.Database('micro_0_to_5', micro_0_to_5)\n",
    "database4.panel(\"who\") # remember to sort data by individual\n",
    "globals().update(database4.variables)"
   ]
  },
  {
   "cell_type": "code",
   "execution_count": 15,
   "metadata": {},
   "outputs": [],
   "source": [
    "ASC_SCOOTER = Beta('ASC_SCOOTER', 0, None, None, 1)\n",
    "ASC_SCOOTER_S = Beta('ASC_SCOOTER_S', 1, None, None, 0)\n",
    "ASC_SCOOTER_RND = ASC_SCOOTER + ASC_SCOOTER_S * bioDraws('ASC_SCOOTER_RND', 'NORMAL_ANTI')\n",
    "\n",
    "ASC_DLBIKE = Beta('ASC_DLBIKE', 0, None, None, 0)\n",
    "ASC_DLBIKE_S = Beta('ASC_DLBIKE_S', 1, None, None, 0)\n",
    "ASC_DLBIKE_RND = ASC_DLBIKE + ASC_DLBIKE_S * bioDraws('ASC_DLBIKE_RND', 'NORMAL_ANTI')\n",
    "\n",
    "ASC_DKBIKE = Beta('ASC_DKBIKE', 0, None, None, 0)\n",
    "ASC_DKBIKE_S = Beta('ASC_DKBIKE_S', 1, None, None, 0)\n",
    "ASC_DKBIKE_RND = ASC_DKBIKE + ASC_DKBIKE_S * bioDraws('ASC_DKBIKE_RND', 'NORMAL_ANTI')\n",
    "\n",
    "ASC_SCTRANSIT = Beta('ASC_SCTRANSIT', 0, None, None, 0)\n",
    "ASC_SCTRANSIT_S = Beta('ASC_SCTRANSIT_S', 1, None, None, 0)\n",
    "ASC_SCTRANSIT_RND = ASC_SCTRANSIT + ASC_SCTRANSIT_S * bioDraws('ASC_SCTRANSIT_RND', 'NORMAL_ANTI')\n",
    "\n",
    "# B_SCOOTERTIME = Beta('B_SCOOTERTIME', 0, None, None, 0)\n",
    "# B_SCOOTERTIME_S = Beta('B_SCOOTERTIME_S', 1, None, None, 0)\n",
    "# B_SCOOTERTIME_RND = -exp(B_SCOOTERTIME + B_SCOOTERTIME_S*bioDraws('B_SCOOTERTIME_RND', 'HALTON'))\n",
    "# B_BIKETIME = Beta('B_BIKETIME', 0, None, None, 0)\n",
    "# # B_DKBIKETIME = Beta('B_DKBIKETIME', 0, None, None, 0)\n",
    "# B_SCTRANSITTIME = Beta('B_SCTRANSITTIME', 0, None, None, 0)\n",
    "\n",
    "B_TIME = Beta('B_TIME', 0, None, None, 0)\n",
    "# B_TIME_S = Beta('B_TIME_S', 1, None, None, 0)\n",
    "# B_TIME_RND = -exp(B_TIME + B_TIME_S * bioDraws('B_TIME_RND', 'NORMAL_HALTON2'))\n",
    "\n",
    "B_COST = Beta('B_COST', 0, None, None, 0)\n",
    "# B_COST_S = Beta('B_COST_S', 1, None, None, 0)\n",
    "# B_COST_RND = B_COST + B_COST_S * bioDraws('B_COST_RND', 'NORMAL')\n",
    "\n",
    "B_ACCESS = Beta('B_ACCESS', 0, None, None, 0)\n",
    "B_DROP =Beta('B_DROP', 0, None, None, 0)\n",
    "B_WAITAV = Beta('B_WAITAV', 0, None, None, 0)\n",
    "B_AV = Beta('B_AV', 0, None, None, 0)\n",
    "\n",
    "# B_costadj = Beta('B_costadj', 0, None, None, 0)\n",
    "\n",
    "B_PRCP_Yes = Beta('B_PRCP_Yes', 0, None, None, 0)\n",
    "B_OWNBIKE = Beta('B_OWNBIKE', 0, None, None, 0)\n",
    "B_BIKELANE = Beta('B_BIKELANE', 0, None, None, 0)\n",
    "B_AGE_BIKE = Beta('B_AGE_BIKE', 0, None, None, 0)\n",
    "B_AGE_SQ_BIKE = Beta('B_AGE_SQ_BIKE', 0, None, None, 0)\n",
    "                    \n",
    "B_AGE_SCTRANSIT = Beta('B_AGE_SCTRANSIT', 0, None, None, 0)\n",
    "B_AGE_SQ_SCTRANSIT = Beta('B_AGE_SQ_SCTRANSIT', 0, None, None, 0)\n",
    "                   \n",
    "B_GENDER_F_BIKE = Beta('B_GENDER_F_BIKE', 0, None, None, 0)\n",
    "B_GENDER_F_SCTRANSIT = Beta('B_GENDER_F_SCTRANSIT', 0, None, None, 0)\n",
    "\n",
    "B_CHILD_IN_HH_SCTRANS = Beta('B_CHILD_IN_HH_SCTRANS', 0, None, None, 0)\n",
    "B_CHILD_IN_HH_BIKE = Beta('B_CHILD_IN_HH_BIKE', 0, None, None, 0)\n",
    "\n",
    "B_FULLTIME_EMPLOY_SCTRANS = Beta('B_FULLTIME_EMPLOY_SCTRANS', 0, None, None, 0)\n",
    "B_FULLTIME_EMPLOY_BIKE = Beta('B_FULLTIME_EMPLOY_BIKE', 0, None, None, 0)\n",
    "\n",
    "B_HHINCOME_MORE_75K_SCTRANS = Beta('B_HHINCOME_MORE_75K_SCTRANS', 0, None, None, 0)\n",
    "B_HHINCOME_MORE_75K_BIKE = Beta('B_HHINCOME_MORE_75K_BIKE', 0, None, None, 0)"
   ]
  },
  {
   "cell_type": "code",
   "execution_count": 17,
   "metadata": {},
   "outputs": [],
   "source": [
    "# Utility Functions\n",
    "V7 = (ASC_SCOOTER_RND \n",
    "      + B_TIME*sctime\n",
    "      + B_COST*sccost_adj\n",
    "      + B_ACCESS*SCAW*(1-AVtech)\n",
    "      + B_WAITAV*SCAV*AVtech \n",
    "      )\n",
    "\n",
    "V8 = (ASC_DLBIKE_RND\n",
    "        + B_TIME*dltime\n",
    "        + B_COST*dlcost_adj\n",
    "        + B_ACCESS*DLAW\n",
    "#         + B_OWNBIKE*bike\n",
    "#         + B_BIKELANE*BKLN_Yes\n",
    "#         + B_PRCP_Yes*PRCP_Yes\n",
    "#         + B_AGE_SQ_BIKE*age*age + B_AGE_BIKE*age\n",
    "#         + B_GENDER_F_BIKE*gender_F\n",
    "      + B_CHILD_IN_HH_BIKE*child_in_hh\n",
    "      + B_FULLTIME_EMPLOY_BIKE*employed_full_time\n",
    "      + B_HHINCOME_MORE_75K_BIKE*hh_income_75k\n",
    "    )\n",
    "V9 = (ASC_DKBIKE_RND \n",
    "      + B_TIME*dbtime \n",
    "      + B_COST*dbcost_adj\n",
    "      + B_ACCESS*DBAW\n",
    "      + B_DROP*DBDW\n",
    "#       + B_OWNBIKE*bike\n",
    "#       + B_BIKELANE*BKLN_Yes\n",
    "#       + B_AGE_SQ_BIKE*age*age + B_AGE_BIKE*age\n",
    "#       + B_GENDER_F_BIKE*gender_F\n",
    "      + B_CHILD_IN_HH_BIKE*child_in_hh\n",
    "      + B_FULLTIME_EMPLOY_BIKE*employed_full_time\n",
    "      + B_HHINCOME_MORE_75K_BIKE*hh_income_75k\n",
    "    )\n",
    "V10 = (ASC_SCTRANSIT_RND\n",
    "       + B_TIME*sttotime\n",
    "        + B_COST*sttocost_adj \n",
    "        + B_ACCESS*STAW*(1-AVtech)\n",
    "        + B_WAITAV*STAV*AVtech \n",
    "#         + B_AGE_SQ_SCTRANSIT*age*age + B_AGE_SCTRANSIT*age\n",
    "#         + B_GENDER_F_SCTRANSIT*gender_F\n",
    "       + B_CHILD_IN_HH_SCTRANS*child_in_hh\n",
    "      + B_FULLTIME_EMPLOY_SCTRANS*employed_full_time\n",
    "      + B_HHINCOME_MORE_75K_SCTRANS*hh_income_75k\n",
    "    )"
   ]
  },
  {
   "cell_type": "code",
   "execution_count": 18,
   "metadata": {},
   "outputs": [
    {
     "name": "stdout",
     "output_type": "stream",
     "text": [
      "                             Value  Rob. Std err  Rob. t-test  Rob. p-value\n",
      "ASC_DKBIKE                   -0.55          0.28        -2.00          0.05\n",
      "ASC_DKBIKE_S                 -1.12          0.13        -8.34          0.00\n",
      "ASC_DLBIKE                    0.28          0.25         1.09          0.27\n",
      "ASC_DLBIKE_S                  0.03          0.05         0.67          0.50\n",
      "ASC_SCOOTER_S                -1.55          0.16       -10.02          0.00\n",
      "ASC_SCTRANSIT                 0.92          0.31         2.99          0.00\n",
      "ASC_SCTRANSIT_S              -1.10          0.37        -3.01          0.00\n",
      "B_ACCESS                     -0.15          0.02        -7.61          0.00\n",
      "B_CHILD_IN_HH_BIKE           -0.39          0.22        -1.77          0.08\n",
      "B_CHILD_IN_HH_SCTRANS        -0.66          0.22        -2.93          0.00\n",
      "B_COST                       -2.95          0.50        -5.93          0.00\n",
      "B_DROP                       -0.11          0.04        -3.12          0.00\n",
      "B_FULLTIME_EMPLOY_BIKE       -0.03          0.26        -0.11          0.91\n",
      "B_FULLTIME_EMPLOY_SCTRANS    -1.21          0.31        -3.95          0.00\n",
      "B_HHINCOME_MORE_75K_BIKE      0.31          0.25         1.25          0.21\n",
      "B_HHINCOME_MORE_75K_SCTRANS   0.60          0.22         2.65          0.01\n",
      "B_TIME                       -0.09          0.02        -4.76          0.00\n",
      "B_WAITAV                     -0.04          0.03        -1.21          0.23\n"
     ]
    }
   ],
   "source": [
    "V = {7: V7, 8: V8, 9: V9, 10: V10}\n",
    "av = {7: scooter_av, 8: dlbike_av, 9: dkbike_av, 10: sctransit_av}\n",
    "\n",
    "prob = models.logit(V, av, choice)\n",
    "condprobIndiv = PanelLikelihoodTrajectory(prob)\n",
    "logprob = log(MonteCarlo(condprobIndiv))\n",
    "biogeme = bio.BIOGEME(database4, logprob, numberOfDraws = 5000)\n",
    "biogeme.modelName = \"micromobility_panel_mixedlogit_0_to_5\"\n",
    "\n",
    "results = biogeme.estimate()\n",
    "pandasResults = results.getEstimatedParameters()\n",
    "print(pandasResults.round(2))"
   ]
  },
  {
   "cell_type": "code",
   "execution_count": 20,
   "metadata": {},
   "outputs": [
    {
     "name": "stdout",
     "output_type": "stream",
     "text": [
      "Null log likelihood:  -2693.350347250597\n",
      "Final log likelihood:  -2446.260632540261\n"
     ]
    }
   ],
   "source": [
    "nullloglikelihood = results.data.initLogLike\n",
    "finalloglikelihood = results.data.logLike\n",
    "\n",
    "print('Null log likelihood: ', nullloglikelihood)\n",
    "print('Final log likelihood: ', finalloglikelihood)"
   ]
  },
  {
   "cell_type": "code",
   "execution_count": null,
   "metadata": {},
   "outputs": [],
   "source": []
  }
 ],
 "metadata": {
  "kernelspec": {
   "display_name": "Python 3 (ipykernel)",
   "language": "python",
   "name": "python3"
  },
  "language_info": {
   "codemirror_mode": {
    "name": "ipython",
    "version": 3
   },
   "file_extension": ".py",
   "mimetype": "text/x-python",
   "name": "python",
   "nbconvert_exporter": "python",
   "pygments_lexer": "ipython3",
   "version": "3.10.9"
  },
  "vscode": {
   "interpreter": {
    "hash": "aee8b7b246df8f9039afb4144a1f6fd8d2ca17a180786b69acc140d282b71a49"
   }
  }
 },
 "nbformat": 4,
 "nbformat_minor": 2
}
