{
 "cells": [
  {
   "attachments": {},
   "cell_type": "markdown",
   "metadata": {},
   "source": [
    "## Micromobility MNL Model 0-5 Miles"
   ]
  },
  {
   "cell_type": "code",
   "execution_count": 1,
   "metadata": {},
   "outputs": [],
   "source": [
    "# Importing Packages and Data\n",
    "import pandas as pd\n",
    "import numpy as np\n",
    "import biogeme as biogeme\n",
    "import biogeme.database as db\n",
    "import biogeme.biogeme as bio\n",
    "from biogeme import models\n",
    "import biogeme.messaging as msg\n",
    "from biogeme.expressions import Beta\n",
    "from biogeme.expressions import (\n",
    "    Beta,\n",
    "    DefineVariable,\n",
    "    bioDraws,\n",
    "    PanelLikelihoodTrajectory,\n",
    "    MonteCarlo,\n",
    "    log,\n",
    "    Derive\n",
    ")\n",
    "import math\n",
    "from datetime import datetime\n",
    "import matplotlib.pyplot as plt"
   ]
  },
  {
   "cell_type": "code",
   "execution_count": 2,
   "metadata": {},
   "outputs": [],
   "source": [
    "# import data\n",
    "micro_pool_socio = pd.read_csv('Data/micro_pool_socio_bio2up.csv')\n",
    "\n",
    "micro_pool_socio['PRCP_Yes'] = np.where((micro_pool_socio['PRCP'] == 1) | (micro_pool_socio['PRCP'] == 2), 1, 0)\n",
    "micro_pool_socio['BKLN_Yes'] = np.where((micro_pool_socio['BKLN'] == 1) | (micro_pool_socio['BKLN'] == 2) | (micro_pool_socio['BKLN'] == 3), 1, 0)"
   ]
  },
  {
   "cell_type": "markdown",
   "metadata": {},
   "source": []
  },
  {
   "cell_type": "code",
   "execution_count": 3,
   "metadata": {},
   "outputs": [],
   "source": [
    "# Micromobility Trips 0-5 Miles\n",
    "micro0to5 = (((\n",
    "# 0-2 miles first choice\n",
    "micro_pool_socio['scooter_av'] == 1) & (\n",
    "    micro_pool_socio['dlbike_av'] == 1) & (\n",
    "    micro_pool_socio['dkbike_av'] == 1) & (\n",
    "    micro_pool_socio['car_av'] == 0) & (\n",
    "    micro_pool_socio['transit_av'] == 0) & (\n",
    "    micro_pool_socio['rd_av'] == 0) & (\n",
    "    micro_pool_socio['walk_av'] == 0) & (\n",
    "    micro_pool_socio['bike_av'] == 0) & (\n",
    "    micro_pool_socio['sctransit_av'] == 0)) | ((\n",
    "# 0-2 miles second choice\n",
    "    # scooter_av == 1 & dlbike_av == 1 & everything else == 0\n",
    "    micro_pool_socio['scooter_av'] == 1) & (\n",
    "    micro_pool_socio['dlbike_av'] == 1) & (\n",
    "    micro_pool_socio['dkbike_av'] == 0) & (\n",
    "    micro_pool_socio['car_av'] == 0) & (\n",
    "    micro_pool_socio['transit_av'] == 0) & (\n",
    "    micro_pool_socio['rd_av'] == 0) & (\n",
    "    micro_pool_socio['walk_av'] == 0) & (\n",
    "    micro_pool_socio['bike_av'] == 0) & (\n",
    "    micro_pool_socio['sctransit_av'] == 0)) | ((\n",
    "    #'scooter'_av ==1 & 'dk_bike'_av == 1 & everything else == 0\n",
    "    micro_pool_socio['scooter_av'] == 1) & (\n",
    "    micro_pool_socio['dkbike_av'] == 1) & (\n",
    "    micro_pool_socio['dlbike_av'] == 0) & (\n",
    "    micro_pool_socio['car_av'] == 0) & (\n",
    "    micro_pool_socio['transit_av'] == 0) & (\n",
    "    micro_pool_socio['rd_av'] == 0) & (\n",
    "    micro_pool_socio['walk_av'] == 0) & (\n",
    "    micro_pool_socio['bike_av'] == 0) & (\n",
    "    micro_pool_socio['sctransit_av'] == 0)) | ((\n",
    "    #'dk_bike_av' == 1 & 'dl_bike_av' == 1 & everything else == 0\n",
    "    micro_pool_socio['dkbike_av'] == 1) & (\n",
    "    micro_pool_socio['dlbike_av'] == 1) & (\n",
    "    micro_pool_socio['scooter_av'] == 0) & (\n",
    "    micro_pool_socio['car_av'] == 0) & (\n",
    "    micro_pool_socio['transit_av'] == 0) & (\n",
    "    micro_pool_socio['rd_av'] == 0) & (\n",
    "    micro_pool_socio['walk_av'] == 0) & (\n",
    "    micro_pool_socio['bike_av'] == 0) & (\n",
    "    micro_pool_socio['sctransit_av'] == 0\n",
    "    )) | ((\n",
    "# 2-5 miles\n",
    "    micro_pool_socio['scooter_av'] == 1) & (\n",
    "    micro_pool_socio['dlbike_av'] == 0) & (\n",
    "    micro_pool_socio['dkbike_av'] == 0) & (\n",
    "    micro_pool_socio['car_av'] == 0) & (\n",
    "    micro_pool_socio['transit_av'] == 0) & (\n",
    "    micro_pool_socio['rd_av'] == 0) & (\n",
    "    micro_pool_socio['walk_av'] == 0) & (\n",
    "    micro_pool_socio['bike_av'] == 0) & (\n",
    "    micro_pool_socio['sctransit_av'] == 1\n",
    ")))\n",
    "\n",
    "micro_0_to_5 = micro_pool_socio.loc[micro0to5]"
   ]
  },
  {
   "cell_type": "code",
   "execution_count": 4,
   "metadata": {},
   "outputs": [],
   "source": [
    "database4 = db.Database('micro_0_to_5', micro_0_to_5)\n",
    "globals().update(database4.variables)"
   ]
  },
  {
   "cell_type": "code",
   "execution_count": 8,
   "metadata": {},
   "outputs": [],
   "source": [
    "ASC_SCOOTER = Beta('ASC_SCOOTER', 0, None, None, 0)\n",
    "ASC_SCOOTER_PRIME = Beta('ASC_SCOOTER_PRIME', 0, None, None, 0)\n",
    "ASC_DLBIKE = Beta('ASC_DLBIKE', 0, None, None, 0)\n",
    "ASC_DKBIKE = Beta('ASC_DKBIKE', 0, None, None, 0)\n",
    "ASC_SCTRANSIT = Beta('ASC_SCTRANSIT', 0, None, None, 1)\n",
    "\n",
    "B_SCOOTERTIME = Beta('B_SCOOTERTIME', 0, None, None, 0)\n",
    "B_SCOOTERTIME_PRIME = Beta('B_SCOOTERTIME_PRIME', 0, None, None, 0)\n",
    "B_BIKETIME = Beta('B_BIKETIME', 0, None, None, 0)\n",
    "# B_DKBIKETIME = Beta('B_DKBIKETIME', 0, None, None, 0)\n",
    "B_SCTRANSITTIME = Beta('B_SCTRANSITTIME', 0, None, None, 0)\n",
    "\n",
    "B_ACCESS = Beta('B_ACCESS', 0, None, None, 0)\n",
    "B_DROP =Beta('B_DROP', 0, None, None, 0)\n",
    "B_WAITAV = Beta('B_WAITAV', 0, None, None, 0)\n",
    "B_AV = Beta('B_AV', 0, None, None, 0)\n",
    "\n",
    "B_COST = Beta('B_COST', 0, None, None, 0)\n",
    "B_COST_PRIME = Beta('B_COST_PRIME', 0, None, None, 0)\n",
    "B_costadj = Beta('B_costadj', 0, None, None, 0)\n",
    "\n",
    "B_PRCP_Yes = Beta('B_PRCP_Yes', 0, None, None, 0)\n",
    "B_OWNBIKE = Beta('B_OWNBIKE', 0, None, None, 0)\n",
    "B_BIKELANE = Beta('B_BIKELANE', 0, None, None, 0)\n",
    "B_AGE_SQ = Beta('B_AGE_SQ', 0, None, None, 0)\n",
    "B_AGE_SCTRANSIT_SQ = Beta('B_AGE_SCTRANSIT_SQ', 0, None, None, 0)\n",
    "B_GENDER_F = Beta('B_GENDER_F', 0, None, None, 0)"
   ]
  },
  {
   "cell_type": "code",
   "execution_count": 12,
   "metadata": {},
   "outputs": [],
   "source": [
    "# Utility Functions\n",
    "V7 = (ASC_SCOOTER   \n",
    "      + ASC_SCOOTER_PRIME*AVtech\n",
    "      + B_SCOOTERTIME*sctime\n",
    "      + B_SCOOTERTIME_PRIME*sctime*AVtech\n",
    "      + B_COST*sccost_adj\n",
    "      + B_COST_PRIME*sccost_adj*AVtech\n",
    "      + B_ACCESS*SCAW*(1-AVtech)\n",
    "      + B_WAITAV*SCAV*AVtech \n",
    "      )\n",
    "V8 = (ASC_DLBIKE\n",
    "        + B_BIKETIME*dltime\n",
    "        + B_COST*dlcost_adj\n",
    "        + B_ACCESS*DLAW\n",
    "        # + B_PRCP_Yes*PRCP_Yes\n",
    "        # + B_OWNBIKE*bike\n",
    "        # + B_BIKELANE*BKLN_Yes\n",
    "        # + B_AGE_SQ*age*age\n",
    "        # + B_GENDER_F*gender_F\n",
    "    )\n",
    "V9 = (ASC_DKBIKE \n",
    "      + B_BIKETIME*dbtime \n",
    "      + B_COST*dbcost_adj\n",
    "      + B_ACCESS*DBAW\n",
    "      # + B_DROP*DBDW\n",
    "      # + B_OWNBIKE*bike\n",
    "      # + B_BIKELANE*BKLN_Yes\n",
    "      # + B_AGE_SQ*age*age\n",
    "      # + B_GENDER_F*gender_F\n",
    "    )\n",
    "V10 = (ASC_SCTRANSIT\n",
    "       + B_SCTRANSITTIME*sttotime\n",
    "       + B_COST*sttocost_adj \n",
    "       + B_ACCESS*STAW*(1-AVtech)\n",
    "       + B_WAITAV*STAV*AVtech \n",
    "      #  + B_AGE_SCTRANSIT_SQ*age*age\n",
    "    )"
   ]
  },
  {
   "cell_type": "code",
   "execution_count": 13,
   "metadata": {},
   "outputs": [
    {
     "name": "stdout",
     "output_type": "stream",
     "text": [
      "                     Value  Rob. Std err  Rob. t-test  Rob. p-value\n",
      "ASC_DKBIKE            0.27          0.24         1.13          0.26\n",
      "ASC_DLBIKE            1.05          0.24         4.40          0.00\n",
      "ASC_SCOOTER           0.80          0.22         3.59          0.00\n",
      "ASC_SCOOTER_PRIME     0.34          0.16         2.12          0.03\n",
      "B_ACCESS             -0.11          0.01        -7.40          0.00\n",
      "B_BIKETIME           -0.03          0.02        -1.67          0.10\n",
      "B_COST               -1.82          0.30        -6.17          0.00\n",
      "B_COST_PRIME          0.28          0.26         1.06          0.29\n",
      "B_SCOOTERTIME        -0.05          0.01        -3.57          0.00\n",
      "B_SCOOTERTIME_PRIME  -0.01          0.01        -1.35          0.18\n",
      "B_SCTRANSITTIME       0.00          0.02         0.19          0.85\n",
      "B_WAITAV             -0.03          0.02        -1.33          0.18\n"
     ]
    }
   ],
   "source": [
    "V = {7: V7, 8: V8, 9: V9, 10: V10} # Associating the utility functions with the numbering of the alternatives\n",
    "av = {7: scooter_av, 8: dlbike_av, 9: dkbike_av, 10: sctransit_av} # Associating the availability conditions with the alternatives\n",
    "\n",
    "logprob = models.loglogit(V, av, choice)\n",
    "biogeme = bio.BIOGEME(database4, logprob)\n",
    "biogeme.modelName = 'micromobility_mnl_0_to_5'\n",
    "\n",
    "biogeme.calculateNullLoglikelihood(av)\n",
    "model_results = biogeme.estimate()\n",
    "pandasResults = model_results.getEstimatedParameters()\n",
    "print(pandasResults.round(2))\n",
    "\n",
    "# get AIC value of model_results\n",
    "# AIC = model_results.data.AIC"
   ]
  },
  {
   "cell_type": "code",
   "execution_count": null,
   "metadata": {},
   "outputs": [],
   "source": [
    "print(logLike)"
   ]
  }
 ],
 "metadata": {
  "kernelspec": {
   "display_name": "Python 3",
   "language": "python",
   "name": "python3"
  },
  "language_info": {
   "codemirror_mode": {
    "name": "ipython",
    "version": 3
   },
   "file_extension": ".py",
   "mimetype": "text/x-python",
   "name": "python",
   "nbconvert_exporter": "python",
   "pygments_lexer": "ipython3",
   "version": "3.11.1"
  },
  "orig_nbformat": 4,
  "vscode": {
   "interpreter": {
    "hash": "aee8b7b246df8f9039afb4144a1f6fd8d2ca17a180786b69acc140d282b71a49"
   }
  }
 },
 "nbformat": 4,
 "nbformat_minor": 2
}
