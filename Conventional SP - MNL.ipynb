{
 "cells": [
  {
   "cell_type": "markdown",
   "id": "f3788377",
   "metadata": {},
   "source": [
    "## Conventional Modes - Choice Model"
   ]
  },
  {
   "cell_type": "markdown",
   "id": "14dec1d2",
   "metadata": {},
   "source": [
    "Variables: \n",
    "    Travel time: cartime, transittime, rdtime, walktime, biketime\n",
    "    Travel cost: carfeetotal, transitcost, rdcost, walktime, biketime\n",
    "\n",
    "Utility functions:\n",
    "\n",
    "    ASC_CAR + B_CARTIME*cartime + B_COST*carfee_total\n",
    "    \n",
    "    ASC_TRANSIT + B_TRANSITTIME*transittime + B_COST*transitcost\n",
    "    \n",
    "    ASC_RH + B_RHTIME*rdtime + B_COST*rdcost\n",
    "    \n",
    "    ASC_WALK + B_WALKTIME*walktime\n",
    "    \n",
    "    ASC_BIKE + B_BIKETIME*biketime"
   ]
  },
  {
   "cell_type": "markdown",
   "id": "d2a0acb6",
   "metadata": {},
   "source": [
    "### Importing Packages and Data"
   ]
  },
  {
   "cell_type": "code",
   "execution_count": 1,
   "id": "cee5aa46",
   "metadata": {},
   "outputs": [],
   "source": [
    "import pandas as pd\n",
    "import matplotlib.pyplot as plot\n",
    "import numpy as np\n",
    "import biogeme as biogeme\n",
    "import biogeme.distributions as dist\n",
    "import biogeme.database as db\n",
    "import biogeme.biogeme as bio\n",
    "from biogeme import models\n",
    "import biogeme.messaging as msg\n",
    "#from biogeme.expressions import Beta\n",
    "from biogeme.expressions import (\n",
    "    Beta,\n",
    "    DefineVariable,\n",
    "    bioDraws,\n",
    "    PanelLikelihoodTrajectory,\n",
    "    MonteCarlo,\n",
    "    log,\n",
    "    Derive\n",
    ")\n",
    "import math\n",
    "from datetime import datetime"
   ]
  },
  {
   "cell_type": "code",
   "execution_count": 3,
   "id": "c3c304b5",
   "metadata": {},
   "outputs": [],
   "source": [
    "# conventional sp data alone\n",
    "con_sp = pd.read_csv('Data/ConventionalOnly.CSV')\n",
    "con_sp\n",
    "df = pd.read_csv(\"Data/ConventionalOnly.csv\")"
   ]
  },
  {
   "cell_type": "code",
   "execution_count": 27,
   "id": "2f2e9f8b",
   "metadata": {},
   "outputs": [],
   "source": [
    "database = db.Database('con_sp',con_sp)\n",
    "# They are organized as panel data. The variable who identifies each individual.\n",
    "#database.panel(\"who\") # remember to sort data by individual\n",
    "globals().update(database.variables)"
   ]
  },
  {
   "cell_type": "markdown",
   "id": "b351cfb1",
   "metadata": {},
   "source": [
    "### Data Visualizations"
   ]
  },
  {
   "cell_type": "code",
   "execution_count": 68,
   "id": "f0daa931",
   "metadata": {},
   "outputs": [
    {
     "name": "stdout",
     "output_type": "stream",
     "text": [
      "<pandas.core.groupby.generic.DataFrameGroupBy object at 0x7f98222b7d30>\n"
     ]
    }
   ],
   "source": [
    "# database.getSampleSize()\n",
    "\n",
    "df2 = df.groupby(by='choice')\n",
    "print(df2)\n",
    "\n"
   ]
  },
  {
   "cell_type": "markdown",
   "id": "60def79d",
   "metadata": {},
   "source": [
    "## Model Specification\n",
    "### Defining the Parameters to be Estimated"
   ]
  },
  {
   "cell_type": "markdown",
   "id": "d2c98554",
   "metadata": {},
   "source": [
    "Notes about the function Beta\n",
    "- takes five arguments\n",
    "- first argument = name of parameter, advised to use same name var name\n",
    "- second argument = starting value of parameter estimate (usually 0)\n",
    "- third argument = lower bound on parameter ('None' if unbounded)\n",
    "- fourth argument = upper bound on parameter ('None' if unbounded)\n",
    "- fifth argument = {0, 1} 0 if want to estimate parameter; 1 if keep fixed to starting value\n",
    "\n",
    "Questions\n",
    "- can you fix the starting value of a parameter to the value of another parameter?"
   ]
  },
  {
   "cell_type": "code",
   "execution_count": 34,
   "id": "c50d96a2",
   "metadata": {},
   "outputs": [],
   "source": [
    "ASC_CAR = Beta('ASC_CAR', 0, None, None, 1)\n",
    "ASC_TRANSIT = Beta('ASC_Transit', 0, None, None, 0)\n",
    "ASC_RH = Beta('ASC_RH', 0, None, None, 0)\n",
    "ASC_WALK = Beta('ASC_WALK', 0, None, None, 0)\n",
    "ASC_BIKE = Beta('ASC_Bike', 0, None, None, 0)\n",
    "\n",
    "B_CARTIME = Beta('B_CARTIME', 0, None, None, 0)\n",
    "B_TRANSITTIME = Beta('B_TRANSITTIME', 0, None, None, 0)\n",
    "B_RHTIME = Beta('B_RHTIME', 0, None, None, 0)\n",
    "B_WALKTIME = Beta('B_WALKTIME', 0, None, None, 0)\n",
    "B_BIKETIME = Beta('B_BIKETIME', 0, None, None, 0)\n",
    "\n",
    "B_COST = Beta('B_COST', 0, None, None, 0)\n",
    "B_COST2 = Beta('B_COST2', 0, None, None, 0)\n",
    "B_COST3 = Beta('B_COST3', 0, None, None, 0)\n",
    "\n",
    "B_AGE_CAR = Beta('B_AGE_CAR', 0, None, None, 0)\n",
    "B_AGE_TRANSIT = Beta('B_AGE_TRANSIT', 0, None, None, 0)\n",
    "B_AGE_RH = Beta('B_AGE_RH', 0, None, None, 0)\n",
    "B_AGE_WALK = Beta('B_AGE_WALK', 0, None, None, 0)\n",
    "B_AGE_BIKE = Beta('B_AGE_BIKE', 0, None, None, 0)\n",
    "\n",
    "B_KIDS_CAR = Beta('B_KIDS_CAR', 0, None, None, 0)\n",
    "B_KIDS_TRANSIT = Beta('B_KIDS_TRANSIT', 0, None, None, 0)\n",
    "B_KIDS_RH = Beta('B_KIDS_RH', 0, None, None, 0)\n",
    "B_KIDS_WALK = Beta('B_KIDS_WALK', 0, None, None, 0)\n",
    "B_KIDS_BIKE = Beta('B_KIDS_Bike', 0, None, None, 0)"
   ]
  },
  {
   "cell_type": "markdown",
   "id": "d3aa75a0",
   "metadata": {},
   "source": [
    "### Defining the Utility Functions"
   ]
  },
  {
   "cell_type": "code",
   "execution_count": 35,
   "id": "debfbd89",
   "metadata": {},
   "outputs": [],
   "source": [
    "V1 = ASC_CAR + B_CARTIME*cartime + B_COST*carfeetotal + B_AGE_CAR*age + B_KIDS_CAR*child\n",
    "V2 = ASC_TRANSIT + B_TRANSITTIME*transittime + B_COST*transitcost + B_AGE_TRANSIT*age + B_KIDS_TRANSIT*child\n",
    "V3 = ASC_RH + B_RHTIME*rdtime + B_COST*rdcost + B_AGE_RH*age + B_KIDS_RH*child\n",
    "V4 = ASC_WALK + B_WALKTIME*walktime + B_AGE_WALK*age + B_KIDS_WALK*child\n",
    "V5 = ASC_BIKE + B_BIKETIME*biketime + B_AGE_BIKE*age + B_KIDS_BIKE*child"
   ]
  },
  {
   "cell_type": "markdown",
   "id": "cf29eb9f",
   "metadata": {},
   "source": [
    "2/14 - notes\n",
    "ways of modeling heterogeneity:\n",
    "1. age (as age increases, utility of ridehailing decreases)\n",
    "2. trip purpose\n",
    "3. gender?\n",
    "4. kids?"
   ]
  },
  {
   "cell_type": "markdown",
   "id": "791e8e49",
   "metadata": {},
   "source": [
    "### Associating the Utility Functions with the Numbering of the Alternatives"
   ]
  },
  {
   "cell_type": "code",
   "execution_count": 36,
   "id": "ab30f9fb",
   "metadata": {},
   "outputs": [],
   "source": [
    "V = {1: V1, 2: V2, 3: V3, 4: V4, 5: V5}"
   ]
  },
  {
   "cell_type": "markdown",
   "id": "5b5ab6c6",
   "metadata": {},
   "source": [
    "### Associating the Availability Conditions with the Alternatives"
   ]
  },
  {
   "cell_type": "code",
   "execution_count": 37,
   "id": "8334ca50",
   "metadata": {},
   "outputs": [],
   "source": [
    "av = {1: car_av, 2: transit_av, 3: rd_av, 4: walk_av, 5: bike_av}"
   ]
  },
  {
   "cell_type": "markdown",
   "id": "c383ef23",
   "metadata": {},
   "source": [
    "### Log Logit Model"
   ]
  },
  {
   "cell_type": "code",
   "execution_count": 38,
   "id": "81cb1cf0",
   "metadata": {},
   "outputs": [],
   "source": [
    "logprob = models.loglogit(V, av, choice)"
   ]
  },
  {
   "cell_type": "code",
   "execution_count": 39,
   "id": "79be606f",
   "metadata": {
    "scrolled": true
   },
   "outputs": [
    {
     "name": "stdout",
     "output_type": "stream",
     "text": [
      "                   Value  Rob. Std err  Rob. t-test  Rob. p-value\n",
      "ASC_Bike       -0.223636      0.165803    -1.348805  1.773995e-01\n",
      "ASC_RH         -2.022559      0.237190    -8.527174  0.000000e+00\n",
      "ASC_Transit    -1.412554      0.148706    -9.498969  0.000000e+00\n",
      "ASC_WALK       -2.144009      0.289474    -7.406579  1.296740e-13\n",
      "B_AGE_BIKE     -0.004126      0.003214    -1.283692  1.992499e-01\n",
      "B_AGE_CAR       0.005360      0.002286     2.345104  1.902178e-02\n",
      "B_AGE_RH       -0.013268      0.004787    -2.771355  5.582358e-03\n",
      "B_AGE_TRANSIT   0.001712      0.002935     0.583256  5.597212e-01\n",
      "B_AGE_WALK      0.010321      0.004269     2.417878  1.561133e-02\n",
      "B_BIKETIME     -0.012239      0.002037    -6.008350  1.874209e-09\n",
      "B_CARTIME      -0.001868      0.003144    -0.594319  5.522990e-01\n",
      "B_COST         -0.053466      0.006595    -8.107270  4.440892e-16\n",
      "B_KIDS_Bike     0.078405      0.031887     2.458870  1.393749e-02\n",
      "B_KIDS_CAR     -0.084029      0.027567    -3.048225  2.301977e-03\n",
      "B_KIDS_RH       0.234655      0.040700     5.765540  8.139690e-09\n",
      "B_KIDS_TRANSIT  0.001030      0.035246     0.029226  9.766843e-01\n",
      "B_KIDS_WALK    -0.230060      0.059919    -3.839495  1.232876e-04\n",
      "B_RHTIME        0.023872      0.004217     5.660990  1.505025e-08\n",
      "B_TRANSITTIME  -0.004531      0.002201    -2.058325  3.955891e-02\n",
      "B_WALKTIME     -0.004935      0.001672    -2.951587  3.161453e-03\n"
     ]
    }
   ],
   "source": [
    "biogeme = bio.BIOGEME(database, logprob)\n",
    "biogeme.modelName = '01conv_sp_alone'\n",
    "\n",
    "biogeme.calculateNullLoglikelihood(av)\n",
    "model_results = biogeme.estimate()\n",
    "pandasResults = model_results.getEstimatedParameters()\n",
    "print(pandasResults)"
   ]
  },
  {
   "cell_type": "code",
   "execution_count": null,
   "id": "60e4f075",
   "metadata": {},
   "outputs": [],
   "source": [
    "## t-test is the significance of the effect of the predictor variable\n",
    "## coefficient is the effect of the predictor variable"
   ]
  },
  {
   "cell_type": "markdown",
   "id": "b1b3cb5a",
   "metadata": {},
   "source": [
    "### Logit Model"
   ]
  },
  {
   "cell_type": "code",
   "execution_count": 17,
   "id": "5c7fe1c2",
   "metadata": {},
   "outputs": [],
   "source": [
    "prob = (models.logit(V, av, choice))\n",
    "logprob2 = ln(prob)\n",
    "# what are the probabilities? b/w 0-1\n",
    "# try with exp(v)"
   ]
  },
  {
   "cell_type": "code",
   "execution_count": 18,
   "id": "f107ff89",
   "metadata": {},
   "outputs": [
    {
     "name": "stdout",
     "output_type": "stream",
     "text": [
      "                    Value  Rob. Std err  Rob. t-test  Rob. p-value\n",
      "ASC_Bike       181.932874     31.529783     5.770191  7.918171e-09\n",
      "ASC_RH         -10.331573      3.844559    -2.687323  7.202726e-03\n",
      "ASC_Transit     35.333914      8.745035     4.040454  5.334777e-05\n",
      "ASC_WALK       214.479276     37.516093     5.716994  1.084250e-08\n",
      "B_BIKETIME       2.182438      0.412444     5.291473  1.213351e-07\n",
      "B_CARTIME       34.662214      6.107442     5.675406  1.383599e-08\n",
      "B_COST        -144.383835     25.490186    -5.664291  1.476336e-08\n",
      "B_RHTIME         1.657408      0.890772     1.860641  6.279489e-02\n",
      "B_TRANSITTIME   -1.868569      0.823605    -2.268768  2.328245e-02\n",
      "B_WALKTIME     -11.086372      1.936895    -5.723785  1.041764e-08\n"
     ]
    }
   ],
   "source": [
    "biogeme = bio.BIOGEME(database, prob)\n",
    "biogeme.modelName = 'logit_model_test'\n",
    "\n",
    "biogeme.calculateNullLoglikelihood(av)\n",
    "model_results = biogeme.estimate()\n",
    "pandasResults = model_results.getEstimatedParameters()\n",
    "print(pandasResults)"
   ]
  },
  {
   "cell_type": "markdown",
   "id": "1eda6b69",
   "metadata": {},
   "source": [
    "### Log Logit Model - Varying Cost Parameter for Each Mode"
   ]
  },
  {
   "cell_type": "code",
   "execution_count": 7,
   "id": "cdfe52b1",
   "metadata": {},
   "outputs": [
    {
     "name": "stdout",
     "output_type": "stream",
     "text": [
      "                  Value  Rob. Std err  Rob. t-test  Rob. p-value\n",
      "ASC_Bike      -0.527579      0.080250    -6.574179  4.892242e-11\n",
      "ASC_RH        -2.703210      0.088692   -30.478752  0.000000e+00\n",
      "ASC_Transit   -1.182570      0.125677    -9.409572  0.000000e+00\n",
      "ASC_WALK      -2.099000      0.180567   -11.624479  0.000000e+00\n",
      "B_BIKETIME    -0.011184      0.001985    -5.635253  1.748016e-08\n",
      "B_CARTIME      0.001348      0.003082     0.437448  6.617867e-01\n",
      "B_COST        -0.068237      0.006463   -10.558643  0.000000e+00\n",
      "B_COST2       -0.212781      0.046355    -4.590256  4.427030e-06\n",
      "B_COST3       -0.008367      0.009069    -0.922573  3.562298e-01\n",
      "B_RHTIME      -0.000249      0.006060    -0.041094  9.672210e-01\n",
      "B_TRANSITTIME -0.003049      0.002105    -1.448298  1.475338e-01\n",
      "B_WALKTIME    -0.004852      0.001690    -2.870906  4.092976e-03\n"
     ]
    }
   ],
   "source": [
    "V11 = ASC_CAR + B_CARTIME*cartime + B_COST*carfeetotal\n",
    "V21 = ASC_TRANSIT + B_TRANSITTIME*transittime + B_COST2*transitcost\n",
    "V31 = ASC_RH + B_RHTIME*rdtime + B_COST3*rdcost\n",
    "V41 = ASC_WALK + B_WALKTIME*walktime\n",
    "V51 = ASC_BIKE + B_BIKETIME*biketime\n",
    "\n",
    "V61 = {1: V11, 2: V21, 3: V31, 4: V41, 5: V51}\n",
    "av = {1: car_av, 2: transit_av, 3: rd_av, 4: walk_av, 5: bike_av}\n",
    "\n",
    "logprob = models.loglogit(V61, av, choice)\n",
    "biogeme = bio.BIOGEME(database, logprob)\n",
    "biogeme.modelName = 'Test with Varying Cost Param'\n",
    "\n",
    "biogeme.calculateNullLoglikelihood(av)\n",
    "model_results = biogeme.estimate()\n",
    "pandasResults = model_results.getEstimatedParameters()\n",
    "print(pandasResults)"
   ]
  },
  {
   "cell_type": "markdown",
   "id": "cee2042c",
   "metadata": {},
   "source": [
    "### Mixed Logit Model"
   ]
  },
  {
   "cell_type": "code",
   "execution_count": 32,
   "id": "bdcfac5d",
   "metadata": {},
   "outputs": [
    {
     "ename": "NameError",
     "evalue": "name 'RandomVariable' is not defined",
     "output_type": "error",
     "traceback": [
      "\u001b[0;31m---------------------------------------------------------------------------\u001b[0m",
      "\u001b[0;31mNameError\u001b[0m                                 Traceback (most recent call last)",
      "\u001b[0;32m/var/folders/bj/nb4c66px5nl_jt5k8xsr3cxm0000gn/T/ipykernel_13105/373606676.py\u001b[0m in \u001b[0;36m<module>\u001b[0;34m\u001b[0m\n\u001b[0;32m----> 1\u001b[0;31m \u001b[0momega\u001b[0m \u001b[0;34m=\u001b[0m \u001b[0mRandomVariable\u001b[0m\u001b[0;34m(\u001b[0m\u001b[0;34m'omega'\u001b[0m\u001b[0;34m)\u001b[0m\u001b[0;34m\u001b[0m\u001b[0;34m\u001b[0m\u001b[0m\n\u001b[0m\u001b[1;32m      2\u001b[0m \u001b[0mdensity\u001b[0m \u001b[0;34m=\u001b[0m \u001b[0mdist\u001b[0m\u001b[0;34m.\u001b[0m\u001b[0mnormalpdf\u001b[0m\u001b[0;34m(\u001b[0m\u001b[0momega\u001b[0m\u001b[0;34m)\u001b[0m\u001b[0;34m\u001b[0m\u001b[0;34m\u001b[0m\u001b[0m\n\u001b[1;32m      3\u001b[0m \u001b[0;34m\u001b[0m\u001b[0m\n\u001b[1;32m      4\u001b[0m \u001b[0mMU\u001b[0m \u001b[0;34m=\u001b[0m \u001b[0mBeta\u001b[0m\u001b[0;34m(\u001b[0m\u001b[0;34m'MU'\u001b[0m\u001b[0;34m,\u001b[0m\u001b[0;36m1\u001b[0m\u001b[0;34m,\u001b[0m\u001b[0;36m0.1\u001b[0m\u001b[0;34m,\u001b[0m\u001b[0;36m10\u001b[0m\u001b[0;34m,\u001b[0m\u001b[0;36m0\u001b[0m\u001b[0;34m)\u001b[0m\u001b[0;34m\u001b[0m\u001b[0;34m\u001b[0m\u001b[0m\n\u001b[1;32m      5\u001b[0m \u001b[0;34m\u001b[0m\u001b[0m\n",
      "\u001b[0;31mNameError\u001b[0m: name 'RandomVariable' is not defined"
     ]
    }
   ],
   "source": [
    "omega = RandomVariable('omega')\n",
    "density = dist.normalpdf(omega)\n",
    "\n",
    "MU = Beta('MU',1,0.1,10,0)\n",
    "\n",
    "# Define the distribution of the random component\n",
    "# LogNormal distribution with mean MU and standard deviation 1\n",
    "LOGIT_RANDOM_DISTRIBUTION = dist.LogNormal(MU, 1)\n",
    "\n",
    "# Define the probability of choosing each alternative\n",
    "prob = bioLogit(V, LOGIT_RANDOM_DISTRIBUTION)\n",
    "biogeme = bio.BIOGEME(database, prob)\n",
    "biogeme.modelName = 'Test2'"
   ]
  },
  {
   "cell_type": "markdown",
   "id": "d912d562",
   "metadata": {},
   "source": [
    "## Resources\n",
    "\n",
    "https://www.youtube.com/watch?v=OiM94B8WayA\n",
    "\n",
    "https://citeseerx.ist.psu.edu/document?repid=rep1&type=pdf&doi=dfcb10a7238ddb4895f52ce996ccfba5979fcea5"
   ]
  }
 ],
 "metadata": {
  "kernelspec": {
   "display_name": "Python 3",
   "language": "python",
   "name": "python3"
  },
  "language_info": {
   "codemirror_mode": {
    "name": "ipython",
    "version": 3
   },
   "file_extension": ".py",
   "mimetype": "text/x-python",
   "name": "python",
   "nbconvert_exporter": "python",
   "pygments_lexer": "ipython3",
   "version": "3.11.1"
  },
  "vscode": {
   "interpreter": {
    "hash": "aee8b7b246df8f9039afb4144a1f6fd8d2ca17a180786b69acc140d282b71a49"
   }
  }
 },
 "nbformat": 4,
 "nbformat_minor": 5
}
