{
 "cells": [
  {
   "attachments": {},
   "cell_type": "markdown",
   "id": "f3788377",
   "metadata": {},
   "source": [
    "## Micromobility MNL Model < 2 Miles"
   ]
  },
  {
   "cell_type": "markdown",
   "id": "66ad7a68",
   "metadata": {},
   "source": [
    "### Importing Packages and Data"
   ]
  },
  {
   "cell_type": "code",
   "execution_count": 11,
   "id": "cee5aa46",
   "metadata": {},
   "outputs": [],
   "source": [
    "import pandas as pd\n",
    "import numpy as np\n",
    "import biogeme as biogeme\n",
    "import biogeme.database as db\n",
    "import biogeme.biogeme as bio\n",
    "from biogeme import models\n",
    "import biogeme.messaging as msg\n",
    "from biogeme.expressions import Beta\n",
    "from biogeme.expressions import (\n",
    "    Beta,\n",
    "    DefineVariable,\n",
    "    bioDraws,\n",
    "    PanelLikelihoodTrajectory,\n",
    "    MonteCarlo,\n",
    "    log,\n",
    "    Derive\n",
    ")\n",
    "import math\n",
    "from datetime import datetime\n",
    "import matplotlib.pyplot as plt\n"
   ]
  },
  {
   "cell_type": "code",
   "execution_count": 12,
   "id": "c3c304b5",
   "metadata": {},
   "outputs": [
    {
     "name": "stdout",
     "output_type": "stream",
     "text": [
      "Index(['zipn', 'p', 'dperson', 'sp', 'sccost', 'dlcost', 'dbcost', 'stcost',\n",
      "       'sctime', 'dltime', 'dbtime', 'sttime', 'stransittime', 'sttotime',\n",
      "       'SCAV', 'AVtech', 'STAV', 'DLAW', 'DBAW', 'DBDW', 'PRCP', 'BKLN',\n",
      "       'TEMP', 'purpose', 'SCAW', 'STAW', 'scooter_av', 'dlbike_av',\n",
      "       'dkbike_av', 'sctransit_av', 'triptime', 'car_av', 'transit_av',\n",
      "       'rd_av', 'walk_av', 'bike_av', 'choice', 'cartime', 'transittime',\n",
      "       'rdtime', 'walktime', 'biketime', 'PRCP_1', 'PRCP_2', 'PRCP_3',\n",
      "       'BKLN_1', 'BKLN_2', 'BKLN_3', 'BKLN_4', 'purpose_1', 'purpose_2',\n",
      "       'purpose_3', 'purpose_4', 'purpose_5', 'purpose_6', 'who', 'age',\n",
      "       'race', 'edu', 'work', 'zipcode', 'hhsize', 'child', 'hhincome',\n",
      "       'idincome', 'veh', 'bike', 'higheredu', 'employ', 'white', 'stu_dummy',\n",
      "       'mean_hhincome', 'veh_dummy', 'gender_F', 'gender_M', 'gender_O',\n",
      "       'mean_idincome', 'originpurpose_errand', 'originpurpose_home',\n",
      "       'originpurpose_school', 'originpurpose_shopping',\n",
      "       'originpurpose_social', 'originpurpose_work', 'trippurp_HBO',\n",
      "       'trippurp_HBSHOP', 'trippurp_HBSOC', 'trippurp_HBW', 'trippurp_NHB',\n",
      "       'meanincomek', 'sccost_adj', 'dlcost_adj', 'dbcost_adj', 'stcost_adj',\n",
      "       'sttocost_adj', 'popdensity', 'BKLNn'],\n",
      "      dtype='object')\n",
      "       zipn    p  dperson  sp  sccost  dlcost  dbcost  stcost  sctime  dltime  \\\n",
      "0     76226  688      221   4    0.00    0.00    0.00     0.0      14       0   \n",
      "1     76226  688      221   4    0.00    0.00    0.00     0.0      14       0   \n",
      "2     76226  688      221   5    7.22    0.00    0.00     1.0      21       0   \n",
      "3     76226  688      221   6    5.44    0.00    0.00     2.0      18       0   \n",
      "4     76226  688      221   5    7.22    0.00    0.00     1.0      21       0   \n",
      "...     ...  ...      ...  ..     ...     ...     ...     ...     ...     ...   \n",
      "8803  35473    3        4   4    0.00    2.13    2.13     0.0       6       6   \n",
      "8804  35473    3        4   5    0.00    2.13    0.00     0.0       9       6   \n",
      "8805  35473    3        4   4    0.00    2.13    2.13     0.0       6       6   \n",
      "8806  35473    3        4   5    0.00    2.13    0.00     0.0       9       6   \n",
      "8807  35473    3        4   6    2.88    2.88    2.13     0.0       9       6   \n",
      "\n",
      "      ...  trippurp_HBW  trippurp_NHB  meanincomek  sccost_adj  dlcost_adj  \\\n",
      "0     ...             0             0         17.5    0.000000     0.00000   \n",
      "1     ...             0             0         17.5    0.000000     0.00000   \n",
      "2     ...             0             0         17.5    0.412571     0.00000   \n",
      "3     ...             0             0         17.5    0.310857     0.00000   \n",
      "4     ...             0             0         17.5    0.412571     0.00000   \n",
      "...   ...           ...           ...          ...         ...         ...   \n",
      "8803  ...             0             0         62.5    0.000000     0.03408   \n",
      "8804  ...             0             0         62.5    0.000000     0.03408   \n",
      "8805  ...             0             0         62.5    0.000000     0.03408   \n",
      "8806  ...             0             0         62.5    0.000000     0.03408   \n",
      "8807  ...             0             0         62.5    0.046080     0.04608   \n",
      "\n",
      "      dbcost_adj  stcost_adj  sttocost_adj  popdensity  BKLNn  \n",
      "0        0.00000    0.000000      0.114286  386.304530    0.5  \n",
      "1        0.00000    0.000000      0.114286  386.304530    0.5  \n",
      "2        0.00000    0.057143      0.171429  386.304530    1.0  \n",
      "3        0.00000    0.114286      0.228571  386.304530    0.0  \n",
      "4        0.00000    0.057143      0.171429  386.304530    1.0  \n",
      "...          ...         ...           ...         ...    ...  \n",
      "8803     0.03408    0.000000      0.032000  592.685351    0.5  \n",
      "8804     0.00000    0.000000      0.032000  592.685351    0.0  \n",
      "8805     0.03408    0.000000      0.032000  592.685351    0.5  \n",
      "8806     0.00000    0.000000      0.032000  592.685351    0.0  \n",
      "8807     0.03408    0.000000      0.032000  592.685351    0.5  \n",
      "\n",
      "[8808 rows x 96 columns]\n"
     ]
    }
   ],
   "source": [
    "# import data\n",
    "micro_pool_socio = pd.read_csv('Data/micro_pool_socio_bio2up.csv')\n",
    "columns = micro_pool_socio.columns\n",
    "print(columns)\n",
    "print(micro_pool_socio)"
   ]
  },
  {
   "cell_type": "code",
   "execution_count": 18,
   "id": "ba580051",
   "metadata": {},
   "outputs": [],
   "source": [
    "ASC_SCOOTER = Beta('ASC_SCOOTER', 0, None, None, 1)\n",
    "ASC_SCOOTER_S = Beta('ASC_SCOOTER_S', 1, None, None, 0)\n",
    "ASC_SCOOTER_RND = ASC_SCOOTER + ASC_SCOOTER_S * bioDraws('ASC_SCOOTER_RND', 'NORMAL_ANTI')\n",
    "\n",
    "ASC_DLBIKE = Beta('ASC_DLBIKE', 0, None, None, 0)\n",
    "ASC_DLBIKE_S = Beta('ASC_DLBIKE_S', 1, None, None, 0)\n",
    "ASC_DLBIKE_RND = ASC_DLBIKE + ASC_DLBIKE_S * bioDraws('ASC_DLBIKE_RND', 'NORMAL_ANTI')\n",
    "\n",
    "ASC_DKBIKE = Beta('ASC_DKBIKE', 0, None, None, 0)\n",
    "ASC_DKBIKE_S = Beta('ASC_DKBIKE_S', 1, None, None, 0)\n",
    "ASC_DKBIKE_RND = ASC_DKBIKE + ASC_DKBIKE_S * bioDraws('ASC_DKBIKE_RND', 'NORMAL_ANTI')\n",
    "\n",
    "ASC_SCTRANSIT = Beta('ASC_SCTRANSIT', 0, None, None, 0)\n",
    "ASC_SCTRANSIT_S = Beta('ASC_SCTRANSIT_S', 1, None, None, 0)\n",
    "ASC_SCTRANSIT_RND = ASC_SCTRANSIT + ASC_SCTRANSIT_S * bioDraws('ASC_SCTRANSIT_RND', 'NORMAL_ANTI')\n",
    "\n",
    "B_SCOOTERTIME = Beta('B_SCOOTERTIME', 0, None, None, 0)\n",
    "B_BIKETIME = Beta('B_BIKETIME', 0, None, None, 0)\n",
    "#B_BIKETIME = Beta('B_DKBIKTIME', 0, None, None, 0)\n",
    "B_SCTRANSITTIME = Beta('B_SCTRANSITTIME', 0, None, None, 0)\n",
    "\n",
    "B_ACCESS = Beta('B_ACCESS', 0, None, None, 0)\n",
    "B_DROP =Beta('B_DROP', 0, None, None, 0)\n",
    "B_WAITAV = Beta('B_WAITAV', 0, None, None, 0)\n",
    "B_AV = Beta('B_AV', 0, None, None, 0)\n",
    "\n",
    "B_PRCP1 = Beta('B_PRCP1', 0, None, None, 0)#Heavy rain\n",
    "B_PRCP2 = Beta('B_PRCP2', 0, None, None, 0)#Light rain, ref: No rain\n",
    "\n",
    "B_BIKEPRCP1 = Beta('B_BIKEPRCP1', 0, None, None, 0)#Heavy rain\n",
    "B_BIKEPRCP2 = Beta('B_BIKEPRCP2', 0, None, None, 0)#Light rain, ref: No rain\n",
    "\n",
    "B_SCOOTERPRCP1 = Beta('B_SCOOTERPRCP1', 0, None, None, 0)#Heavy rain\n",
    "B_SCOOTERPRCP2 = Beta('B_SCOOTERPRCP2', 0, None, None, 0)#Light rain, ref: No rain\n",
    "\n",
    "\n",
    "B_BIKEBKLN2 = Beta('B_BIKEBKLN2', 0, None, None, 0)#80% bikelane\n",
    "B_BIKEBKLN3 = Beta('B_BIKEBKLN3', 0, None, None, 0)#half bikelane\n",
    "B_BIKEBKLN4 = Beta('B_BIKEBKLN4', 0, None, None, 0)#no bikelane, ref: full bikelane\n",
    "\n",
    "B_SCOOTERBKLN2 = Beta('B_SCOOTERBKLN2', 0, None, None, 0)#80% bikelane\n",
    "B_SCOOTERBKLN3 = Beta('B_SCOOTERBKLN3', 0, None, None, 0)#half bikelane\n",
    "B_SCOOTERBKLN4 = Beta('B_SCOOTERBKLN4', 0, None, None, 0)#no bikelane, ref: full bikelane\n",
    "\n",
    "B_OWNBIKE = Beta('B_OWNBIKE', 0, None, None, 0)\n",
    "\n",
    "# B_BIKEBKLNn = Beta('B_BIKEBKLNn', 0, None, None, 0)\n",
    "# B_SCOOTERBKLNn = Beta('B_SCOOTERBKLNn', 0, None, None, 0)\n",
    "\n",
    "# B_TEMPBIKE = Beta('B_TEMPbike', 0, None, None, 0)\n",
    "# B_TEMPsqbike = Beta('B_TEMPsqbike', 0, None, None, 0)\n",
    "\n",
    "# B_TEMPsc = Beta('B_TEMPsc', 0, None, None, 0)\n",
    "# B_TEMPsqsc = Beta('B_TEMPsqsc', 0, None, None, 0)\n",
    "\n",
    "B_microHBW = Beta('B_microHBW', 0, None, None, 0)\n",
    "B_microHBSHOP = Beta('B_microHBSHOP', 0, None, None, 0)\n",
    "B_microHBSOC = Beta('B_microHBSOC', 0, None, None, 0)\n",
    "B_microHBO = Beta('B_microHBO', 0, None, None, 0)\n",
    "B_microNHB = Beta('B_microNHB', 0, None, None, 0)\n",
    "\n",
    "B_microPURPHome = Beta('B_microPURPHome', 0, None, None, 0)#go back home\n",
    "B_microPURPShop = Beta('B_microPURPShop', 0, None, None, 0)#shopping\n",
    "B_microPURPErra = Beta('B_microPURPErra', 0, None, None, 0)#errand\n",
    "B_microPURPScho = Beta('B_microPURPScho', 0, None, None, 0)#school/church\n",
    "B_microPURPSoci = Beta('B_microPURPSoci', 0, None, None, 0)#social\n",
    "\n",
    "B_microorigHome = Beta('B_microorigHome', 0, None, None, 0)\n",
    "B_microorigShop = Beta('B_microorigShop', 0, None, None, 0)\n",
    "B_microorigErra = Beta('B_microorigErra', 0, None, None, 0)\n",
    "B_microorigScho = Beta('B_microorigScho', 0, None, None, 0)\n",
    "B_microorigSoci = Beta('B_microorigSoci', 0, None, None, 0)\n",
    "\n",
    "B_SCAGE = Beta('B_SCAGE', 0, None, None, 0)\n",
    "\n",
    "B_COST = Beta('B_COST', 0, None, None, 0)\n",
    "B_costadj = Beta('B_costadj', 0, None, None, 0)\n",
    "\n"
   ]
  },
  {
   "cell_type": "code",
   "execution_count": 14,
   "id": "f2473b20",
   "metadata": {},
   "outputs": [],
   "source": [
    "# Micromobility trip less than 2 miles, first choice\n",
    "microLessThan2 = ((micro_pool_socio['scooter_av'] == 1) & (\n",
    "    micro_pool_socio['dlbike_av'] == 1) & (\n",
    "    micro_pool_socio['dkbike_av'] == 1) & (\n",
    "    micro_pool_socio['car_av'] == 0) & (\n",
    "    micro_pool_socio['transit_av'] == 0) & (\n",
    "    micro_pool_socio['rd_av'] == 0) & (\n",
    "    micro_pool_socio['walk_av'] == 0) & (\n",
    "    micro_pool_socio['bike_av'] == 0) & (\n",
    "    micro_pool_socio['sctransit_av'] == 0)) | ((\n",
    "# Second choice: \n",
    "# scooter_av == 1 & dlbike_av == 1 & everything else == 0\n",
    "    micro_pool_socio['scooter_av'] == 1) & (\n",
    "    micro_pool_socio['dlbike_av'] == 1) & (\n",
    "    micro_pool_socio['dkbike_av'] == 0) & (\n",
    "    micro_pool_socio['car_av'] == 0) & (\n",
    "    micro_pool_socio['transit_av'] == 0) & (\n",
    "    micro_pool_socio['rd_av'] == 0) & (\n",
    "    micro_pool_socio['walk_av'] == 0) & (\n",
    "    micro_pool_socio['bike_av'] == 0) & (\n",
    "    micro_pool_socio['sctransit_av'] == 0)) | ((\n",
    "    #'scooter'_av ==1 & 'dk_bike'_av == 1 & everything else == 0\n",
    "    micro_pool_socio['scooter_av'] == 1) & (\n",
    "    micro_pool_socio['dkbike_av'] == 1) & (\n",
    "    micro_pool_socio['dlbike_av'] == 0) & (\n",
    "    micro_pool_socio['car_av'] == 0) & (\n",
    "    micro_pool_socio['transit_av'] == 0) & (\n",
    "    micro_pool_socio['rd_av'] == 0) & (\n",
    "    micro_pool_socio['walk_av'] == 0) & (\n",
    "    micro_pool_socio['bike_av'] == 0) & (\n",
    "    micro_pool_socio['sctransit_av'] == 0)) | ((\n",
    "    #'dk_bike_av' == 1 & 'dl_bike_av' == 1 & everything else == 0\n",
    "    micro_pool_socio['dkbike_av'] == 1) & (\n",
    "    micro_pool_socio['dlbike_av'] == 1) & (\n",
    "    micro_pool_socio['scooter_av'] == 0) & (\n",
    "    micro_pool_socio['car_av'] == 0) & (\n",
    "    micro_pool_socio['transit_av'] == 0) & (\n",
    "    micro_pool_socio['rd_av'] == 0) & (\n",
    "    micro_pool_socio['walk_av'] == 0) & (\n",
    "    micro_pool_socio['bike_av'] == 0) & (\n",
    "    micro_pool_socio['sctransit_av'] == 0\n",
    "    ))\n",
    "\n",
    "micro_less_than_2 = micro_pool_socio.loc[microLessThan2]\n"
   ]
  },
  {
   "cell_type": "code",
   "execution_count": 19,
   "id": "d8986a6d",
   "metadata": {},
   "outputs": [
    {
     "name": "stdout",
     "output_type": "stream",
     "text": [
      "1974\n"
     ]
    },
    {
     "data": {
      "image/png": "[encoded data removed]",
      "text/plain": [
       "<Figure size 640x480 with 1 Axes>"
      ]
     },
     "metadata": {},
     "output_type": "display_data"
    }
   ],
   "source": [
    "\n",
    "# Number of respondents for micromobility only option for less than 2 miles\n",
    "num_respondents = len(micro_less_than_2)\n",
    "print(num_respondents)\n",
    "\n",
    "freq = micro_less_than_2['choice'].value_counts()\n",
    "plt.bar(freq.index, freq.values)\n",
    "plt.xlabel('Choice')\n",
    "plt.ylabel('Frequency')\n",
    "plt.title('Frequency of choices for Trips < 2 miles')\n",
    "plt.show()\n",
    "\n",
    "# 7 = scooter\n",
    "# 8 = dockless bike\n",
    "# 9 = docked bike"
   ]
  },
  {
   "cell_type": "code",
   "execution_count": 20,
   "id": "9a4808b0",
   "metadata": {},
   "outputs": [],
   "source": [
    "database2 = db.Database('micro_less_than_2', micro_less_than_2)\n",
    "globals().update(database2.variables) "
   ]
  },
  {
   "cell_type": "code",
   "execution_count": 24,
   "id": "53997bc9",
   "metadata": {},
   "outputs": [],
   "source": [
    "#V1 = ASC_CAR + B_CARTIME*cartime\n",
    "#V2 = ASC_TRANSIT + B_TRANSITTIME*transittime\n",
    "#V3 = ASC_RH + B_RHTIME*rdtime\n",
    "#V4 = ASC_WALK + B_WALKTIME*walktime\n",
    "#V5 = ASC_BIKE + B_BIKETIME*biketime\n",
    "V7 = (ASC_SCOOTER \n",
    "      + B_SCOOTERTIME*sctime \n",
    "      + B_COST*sccost_adj\n",
    "      + B_ACCESS*SCAW*(1-AVtech)\n",
    "      + B_WAITAV*SCAV*AVtech\n",
    ")\n",
    "V8 = (ASC_DLBIKE\n",
    "      + B_BIKETIME*dltime \n",
    "      + B_COST*dlcost_adj\n",
    "      + B_ACCESS*DLAW\n",
    "      #+ B_OWNBIKE*bike\n",
    ")\n",
    "V9 = (ASC_DKBIKE\n",
    "       + B_BIKETIME*dbtime \n",
    "       + B_COST*dbcost_adj\n",
    "       + B_ACCESS*DBAW\n",
    "       + B_DROP*DBDW\n",
    "      #+ B_OWNBIKE*bike\n",
    ")\n",
    "\n",
    "#V10 = ASC_SCTRANSIT + B_SCOOTERTIME*sttime + B_TRANSITTIME*stransittime + B_COST*sttocost_adj \n",
    "# assumes same value of time for scooter time and transit time individually and collectively\n",
    "# why is there no cost for conventional modes ???"
   ]
  },
  {
   "cell_type": "code",
   "execution_count": 25,
   "id": "e98495e8",
   "metadata": {},
   "outputs": [
    {
     "name": "stdout",
     "output_type": "stream",
     "text": [
      "34\n",
      "\n",
      "scooter_av      1.0\n",
      "dlbike_av       0.0\n",
      "dkbike_av       1.0\n",
      "sctransit_av    0.0\n",
      "triptime        0.0\n",
      "car_av          0.0\n",
      "transit_av      0.0\n",
      "rd_av           0.0\n",
      "Name: 148, dtype: float64\n",
      "9\n",
      "scooter_av      1.0\n",
      "dlbike_av       1.0\n",
      "dkbike_av       0.0\n",
      "sctransit_av    0.0\n",
      "triptime        0.0\n",
      "car_av          0.0\n",
      "transit_av      0.0\n",
      "rd_av           0.0\n",
      "Name: 194, dtype: float64\n",
      "8\n"
     ]
    }
   ],
   "source": [
    "# print value of \"choice\", \"scooter_av\", \"transit_av\", \"bike_av\" of row 21 in the micro_less_than_2 dataframe\n",
    "#find column number of \"scooter_av\"\n",
    "print(micro_less_than_2.columns.get_loc(\"walk_av\"))\n",
    "print()\n",
    "#print columns 26:34\n",
    "print(micro_less_than_2.iloc[21, 26:34])\n",
    "print(micro_less_than_2['choice'].iloc[21])\n",
    "\n",
    "print(micro_less_than_2.iloc[31, 26:34])\n",
    "print(micro_less_than_2['choice'].iloc[31])\n"
   ]
  },
  {
   "cell_type": "code",
   "execution_count": 26,
   "id": "79be606f",
   "metadata": {
    "scrolled": true
   },
   "outputs": [
    {
     "name": "stdout",
     "output_type": "stream",
     "text": [
      "[11:25:06] < Warning >   The chosen alternative [choice] is not available for the following observations (rownumber[choice]): 21[9.0]-31[8.0]-34[8.0]-52[8.0]-64[9.0]-69[9.0]-70[8.0]-71[9.0]-76[9.0]-77[9.0]-79[9.0]-80[9.0]-83[9...\n",
      "               Value  Rob. Std err  Rob. t-test  Rob. p-value\n",
      "ASC_DKBIKE     -0.02          0.18        -0.11          0.92\n",
      "ASC_DLBIKE      0.50          0.16         3.04          0.00\n",
      "B_ACCESS       -0.16          0.02        -7.81          0.00\n",
      "B_BIKETIME     -0.17          0.03        -5.37          0.00\n",
      "B_COST         -3.05          0.52        -5.83          0.00\n",
      "B_DROP         -0.13          0.03        -4.06          0.00\n",
      "B_SCOOTERTIME  -0.18          0.04        -5.05          0.00\n",
      "B_WAITAV        0.06          0.04         1.62          0.10\n"
     ]
    },
    {
     "name": "stderr",
     "output_type": "stream",
     "text": [
      "/Library/Frameworks/Python.framework/Versions/3.11/lib/python3.11/site-packages/biogeme/results.py:404: RuntimeWarning: overflow encountered in scalar multiply\n",
      "  -2.0 * (self.data.nullLogLike - self.data.logLike)\n"
     ]
    }
   ],
   "source": [
    "V = {7: V7, 8: V8, 9: V9} # Associating the utility functions with the numbering of the alternatives\n",
    "av = {7: scooter_av, 8: dkbike_av, 9: dlbike_av} # Associating the availability conditions with the alternatives\n",
    "\n",
    "logprob = models.loglogit(V, av, choice)\n",
    "biogeme = bio.BIOGEME(database2, logprob)\n",
    "biogeme.modelName = 'micromobility_mnl_less_than_2'\n",
    "\n",
    "biogeme.calculateNullLoglikelihood(av)\n",
    "model_results = biogeme.estimate()\n",
    "pandasResults = model_results.getEstimatedParameters()\n",
    "#print PandasResults and round values to 2 decimal places\n",
    "print(pandasResults.round(2))"
   ]
  },
  {
   "cell_type": "markdown",
   "id": "1eda6b69",
   "metadata": {},
   "source": []
  }
 ],
 "metadata": {
  "kernelspec": {
   "display_name": "Python 3",
   "language": "python",
   "name": "python3"
  },
  "language_info": {
   "codemirror_mode": {
    "name": "ipython",
    "version": 3
   },
   "file_extension": ".py",
   "mimetype": "text/x-python",
   "name": "python",
   "nbconvert_exporter": "python",
   "pygments_lexer": "ipython3",
   "version": "3.11.1"
  },
  "vscode": {
   "interpreter": {
    "hash": "aee8b7b246df8f9039afb4144a1f6fd8d2ca17a180786b69acc140d282b71a49"
   }
  }
 },
 "nbformat": 4,
 "nbformat_minor": 5
}
